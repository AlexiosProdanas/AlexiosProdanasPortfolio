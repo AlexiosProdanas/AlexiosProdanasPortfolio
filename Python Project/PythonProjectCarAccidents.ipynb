{
 "cells": [
  {
   "cell_type": "code",
   "execution_count": 2,
   "id": "31f37d90",
   "metadata": {
    "executionInfo": {
     "elapsed": 136,
     "status": "ok",
     "timestamp": 1638568401269,
     "user": {
      "displayName": "James Shafer",
      "photoUrl": "https://lh3.googleusercontent.com/a/default-user=s64",
      "userId": "12800533439839110413"
     },
     "user_tz": 300
    },
    "id": "98b3e39c"
   },
   "outputs": [],
   "source": [
    "import pandas as pd\n",
    "import seaborn as sns \n",
    "import matplotlib.pyplot as plt\n",
    "import numpy as np\n",
    "import os\n",
    "import statsmodels.formula.api as sm"
   ]
  },
  {
   "cell_type": "code",
   "execution_count": 3,
   "id": "dd8bb2b2",
   "metadata": {
    "executionInfo": {
     "elapsed": 10,
     "status": "ok",
     "timestamp": 1638568401442,
     "user": {
      "displayName": "James Shafer",
      "photoUrl": "https://lh3.googleusercontent.com/a/default-user=s64",
      "userId": "12800533439839110413"
     },
     "user_tz": 300
    },
    "id": "64d14a1c"
   },
   "outputs": [],
   "source": [
    "#import original dataset\n",
    "#df_accidents = pd.read_csv('US_Accidents_Dec20_updated.csv')"
   ]
  },
  {
   "cell_type": "code",
   "execution_count": 3,
   "id": "1bc6876f",
   "metadata": {
    "colab": {
     "base_uri": "https://localhost:8080/",
     "height": 433
    },
    "executionInfo": {
     "elapsed": 223,
     "status": "error",
     "timestamp": 1638568401656,
     "user": {
      "displayName": "James Shafer",
      "photoUrl": "https://lh3.googleusercontent.com/a/default-user=s64",
      "userId": "12800533439839110413"
     },
     "user_tz": 300
    },
    "id": "17a1951a",
    "outputId": "84914acb-462e-45c0-d935-7741c4230f78"
   },
   "outputs": [],
   "source": [
    "#check the first few rows of the dataframe\n",
    "df_accidents = pd.read_csv('/Users/Alexios/Documents/Project/US_Accidents_Dec20_updated.csv')\n",
    "df_accidents.head()"
   ]
  },
  {
   "cell_type": "code",
   "execution_count": 4,
   "id": "997895b4",
   "metadata": {
    "executionInfo": {
     "elapsed": 208,
     "status": "aborted",
     "timestamp": 1638568401643,
     "user": {
      "displayName": "James Shafer",
      "photoUrl": "https://lh3.googleusercontent.com/a/default-user=s64",
      "userId": "12800533439839110413"
     },
     "user_tz": 300
    },
    "id": "8c24d9c9"
   },
   "outputs": [
    {
     "name": "stdout",
     "output_type": "stream",
     "text": [
      "['ID', 'Severity', 'Start_Time', 'End_Time', 'Start_Lat', 'Start_Lng', 'End_Lat', 'End_Lng', 'Distance(mi)', 'Description', 'Number', 'Street', 'Side', 'City', 'County', 'State', 'Zipcode', 'Country', 'Timezone', 'Airport_Code', 'Weather_Timestamp', 'Temperature(F)', 'Wind_Chill(F)', 'Humidity(%)', 'Pressure(in)', 'Visibility(mi)', 'Wind_Direction', 'Wind_Speed(mph)', 'Precipitation(in)', 'Weather_Condition', 'Amenity', 'Bump', 'Crossing', 'Give_Way', 'Junction', 'No_Exit', 'Railway', 'Roundabout', 'Station', 'Stop', 'Traffic_Calming', 'Traffic_Signal', 'Turning_Loop', 'Sunrise_Sunset', 'Civil_Twilight', 'Nautical_Twilight', 'Astronomical_Twilight']\n"
     ]
    }
   ],
   "source": [
    "# listing columns because the 'head' method didn't include all of them\n",
    "\n",
    "col_list = []\n",
    "\n",
    "for col in df_accidents:\n",
    "    col_list.append(col)\n",
    "    \n",
    "print(col_list)"
   ]
  },
  {
   "cell_type": "code",
   "execution_count": 5,
   "id": "9259b173",
   "metadata": {
    "executionInfo": {
     "elapsed": 21,
     "status": "aborted",
     "timestamp": 1638568401644,
     "user": {
      "displayName": "James Shafer",
      "photoUrl": "https://lh3.googleusercontent.com/a/default-user=s64",
      "userId": "12800533439839110413"
     },
     "user_tz": 300
    },
    "id": "cd9b2197"
   },
   "outputs": [],
   "source": [
    "#reducing df to columns we find most relevant to our analysis\n",
    "\n",
    "cleaned_df = df_accidents[['Severity','Start_Time', 'State','City', 'Temperature(F)', 'Visibility(mi)', 'Weather_Condition', 'Pressure(in)', 'Humidity(%)', 'Wind_Speed(mph)', 'Precipitation(in)']].copy()\n"
   ]
  },
  {
   "cell_type": "code",
   "execution_count": 6,
   "id": "e04a4ad2",
   "metadata": {
    "executionInfo": {
     "elapsed": 22,
     "status": "aborted",
     "timestamp": 1638568401645,
     "user": {
      "displayName": "James Shafer",
      "photoUrl": "https://lh3.googleusercontent.com/a/default-user=s64",
      "userId": "12800533439839110413"
     },
     "user_tz": 300
    },
    "id": "6965aab7"
   },
   "outputs": [],
   "source": [
    "#Adding text information of the numerical severity column\n",
    "\n",
    "cleaned_df.loc[cleaned_df['Severity'] == 1, 'Severity_Text'] = 'Short Delay'\n",
    "cleaned_df.loc[cleaned_df['Severity'] == 2, 'Severity_Text'] = 'Medium Delay'\n",
    "cleaned_df.loc[cleaned_df['Severity'] == 3, 'Severity_Text'] = 'High Delay'\n",
    "cleaned_df.loc[cleaned_df['Severity'] == 4, 'Severity_Text'] = 'Heavy Delay'"
   ]
  },
  {
   "cell_type": "code",
   "execution_count": 7,
   "id": "055a57e1",
   "metadata": {
    "executionInfo": {
     "elapsed": 23,
     "status": "aborted",
     "timestamp": 1638568401646,
     "user": {
      "displayName": "James Shafer",
      "photoUrl": "https://lh3.googleusercontent.com/a/default-user=s64",
      "userId": "12800533439839110413"
     },
     "user_tz": 300
    },
    "id": "2c1c8362"
   },
   "outputs": [
    {
     "name": "stdout",
     "output_type": "stream",
     "text": [
      "<class 'pandas.core.frame.DataFrame'>\n",
      "RangeIndex: 1516064 entries, 0 to 1516063\n",
      "Data columns (total 12 columns):\n",
      " #   Column             Non-Null Count    Dtype  \n",
      "---  ------             --------------    -----  \n",
      " 0   Severity           1516064 non-null  int64  \n",
      " 1   Start_Time         1516064 non-null  object \n",
      " 2   State              1516064 non-null  object \n",
      " 3   City               1515981 non-null  object \n",
      " 4   Temperature(F)     1473031 non-null  float64\n",
      " 5   Visibility(mi)     1471853 non-null  float64\n",
      " 6   Weather_Condition  1472057 non-null  object \n",
      " 7   Pressure(in)       1479790 non-null  float64\n",
      " 8   Humidity(%)        1470555 non-null  float64\n",
      " 9   Wind_Speed(mph)    1387202 non-null  float64\n",
      " 10  Precipitation(in)  1005515 non-null  float64\n",
      " 11  Severity_Text      1516064 non-null  object \n",
      "dtypes: float64(6), int64(1), object(5)\n",
      "memory usage: 138.8+ MB\n"
     ]
    }
   ],
   "source": [
    "#ensuring data types are correct\n",
    "\n",
    "cleaned_df.info()"
   ]
  },
  {
   "cell_type": "code",
   "execution_count": 8,
   "id": "54e51161",
   "metadata": {
    "executionInfo": {
     "elapsed": 22,
     "status": "aborted",
     "timestamp": 1638568401646,
     "user": {
      "displayName": "James Shafer",
      "photoUrl": "https://lh3.googleusercontent.com/a/default-user=s64",
      "userId": "12800533439839110413"
     },
     "user_tz": 300
    },
    "id": "17fb435d"
   },
   "outputs": [
    {
     "data": {
      "text/plain": [
       "Severity                  0\n",
       "Start_Time                0\n",
       "State                     0\n",
       "City                     83\n",
       "Temperature(F)        43033\n",
       "Visibility(mi)        44211\n",
       "Weather_Condition     44007\n",
       "Pressure(in)          36274\n",
       "Humidity(%)           45509\n",
       "Wind_Speed(mph)      128862\n",
       "Precipitation(in)    510549\n",
       "Severity_Text             0\n",
       "dtype: int64"
      ]
     },
     "execution_count": 8,
     "metadata": {},
     "output_type": "execute_result"
    }
   ],
   "source": [
    "#checking for null values\n",
    "\n",
    "cleaned_df.isna().sum()"
   ]
  },
  {
   "cell_type": "code",
   "execution_count": 9,
   "id": "58a0cc50",
   "metadata": {
    "executionInfo": {
     "elapsed": 23,
     "status": "aborted",
     "timestamp": 1638568401647,
     "user": {
      "displayName": "James Shafer",
      "photoUrl": "https://lh3.googleusercontent.com/a/default-user=s64",
      "userId": "12800533439839110413"
     },
     "user_tz": 300
    },
    "id": "cf758acf"
   },
   "outputs": [
    {
     "data": {
      "text/plain": [
       "Severity             0\n",
       "Start_Time           0\n",
       "State                0\n",
       "City                 0\n",
       "Temperature(F)       0\n",
       "Visibility(mi)       0\n",
       "Weather_Condition    0\n",
       "Pressure(in)         0\n",
       "Humidity(%)          0\n",
       "Wind_Speed(mph)      0\n",
       "Precipitation(in)    0\n",
       "Severity_Text        0\n",
       "dtype: int64"
      ]
     },
     "execution_count": 9,
     "metadata": {},
     "output_type": "execute_result"
    }
   ],
   "source": [
    "#removing said null values and re-checking\n",
    "\n",
    "cleaned_df = cleaned_df.dropna()\n",
    "\n",
    "cleaned_df.isna().sum()"
   ]
  },
  {
   "cell_type": "code",
   "execution_count": 10,
   "id": "0c0af398",
   "metadata": {
    "executionInfo": {
     "elapsed": 23,
     "status": "aborted",
     "timestamp": 1638568401647,
     "user": {
      "displayName": "James Shafer",
      "photoUrl": "https://lh3.googleusercontent.com/a/default-user=s64",
      "userId": "12800533439839110413"
     },
     "user_tz": 300
    },
    "id": "fd448602"
   },
   "outputs": [
    {
     "data": {
      "text/plain": [
       "Severity                               4\n",
       "Start_Time           2020-12-31 23:28:56\n",
       "State                                 WY\n",
       "City                             Zwingle\n",
       "Temperature(F)                     113.0\n",
       "Visibility(mi)                     100.0\n",
       "Weather_Condition     Wintry Mix / Windy\n",
       "Pressure(in)                       58.04\n",
       "Humidity(%)                        100.0\n",
       "Wind_Speed(mph)                    984.0\n",
       "Precipitation(in)                   24.0\n",
       "Severity_Text                Short Delay\n",
       "dtype: object"
      ]
     },
     "execution_count": 10,
     "metadata": {},
     "output_type": "execute_result"
    }
   ],
   "source": [
    "#checking for potential outliers. Wind speed looks like incorrect data, given the max is 984 mph.\n",
    "\n",
    "cleaned_df.max()"
   ]
  },
  {
   "cell_type": "code",
   "execution_count": 11,
   "id": "696b74c3",
   "metadata": {
    "executionInfo": {
     "elapsed": 23,
     "status": "aborted",
     "timestamp": 1638568401648,
     "user": {
      "displayName": "James Shafer",
      "photoUrl": "https://lh3.googleusercontent.com/a/default-user=s64",
      "userId": "12800533439839110413"
     },
     "user_tz": 300
    },
    "id": "ba95bba0"
   },
   "outputs": [
    {
     "data": {
      "text/plain": [
       "Severity                               4\n",
       "Start_Time           2020-12-31 23:28:56\n",
       "State                                 WY\n",
       "City                             Zwingle\n",
       "Temperature(F)                     113.0\n",
       "Visibility(mi)                     100.0\n",
       "Weather_Condition     Wintry Mix / Windy\n",
       "Pressure(in)                       58.04\n",
       "Humidity(%)                        100.0\n",
       "Wind_Speed(mph)                     98.0\n",
       "Precipitation(in)                   24.0\n",
       "Severity_Text                Short Delay\n",
       "dtype: object"
      ]
     },
     "execution_count": 11,
     "metadata": {},
     "output_type": "execute_result"
    }
   ],
   "source": [
    "#setting threshold for highest wind speed at 100mph \n",
    "\n",
    "cleaned_df = cleaned_df.drop(cleaned_df[cleaned_df['Wind_Speed(mph)'] > 100].index)\n",
    "\n",
    "cleaned_df.max()"
   ]
  },
  {
   "cell_type": "code",
   "execution_count": 12,
   "id": "8683e9f1",
   "metadata": {
    "executionInfo": {
     "elapsed": 23,
     "status": "aborted",
     "timestamp": 1638568401648,
     "user": {
      "displayName": "James Shafer",
      "photoUrl": "https://lh3.googleusercontent.com/a/default-user=s64",
      "userId": "12800533439839110413"
     },
     "user_tz": 300
    },
    "id": "a2d27e6d"
   },
   "outputs": [
    {
     "data": {
      "text/plain": [
       "Text(0.5, 1.0, 'Most Common Weather Conditions for Accidents')"
      ]
     },
     "execution_count": 12,
     "metadata": {},
     "output_type": "execute_result"
    },
    {
     "data": {
      "image/png": "[encoded data removed]",
      "text/plain": [
       "<Figure size 432x288 with 1 Axes>"
      ]
     },
     "metadata": {
      "needs_background": "light"
     },
     "output_type": "display_data"
    }
   ],
   "source": [
    "#plotting frequency of accidents by weather condition\n",
    "\n",
    "cleaned_df['Weather_Condition'].value_counts().head(15).plot.bar()\n",
    "plt.xlabel('Weather Condition',fontsize=10)\n",
    "plt.ylabel('Number of Accidents',fontsize=10)\n",
    "plt.title('Most Common Weather Conditions for Accidents',fontsize=10)"
   ]
  },
  {
   "cell_type": "code",
   "execution_count": 13,
   "id": "a6cee1a6",
   "metadata": {
    "executionInfo": {
     "elapsed": 24,
     "status": "aborted",
     "timestamp": 1638568401649,
     "user": {
      "displayName": "James Shafer",
      "photoUrl": "https://lh3.googleusercontent.com/a/default-user=s64",
      "userId": "12800533439839110413"
     },
     "user_tz": 300
    },
    "id": "b232c5fa"
   },
   "outputs": [
    {
     "data": {
      "text/plain": [
       "Text(0.5, 1.0, 'Top 30 States with the Highest Number of Accidents')"
      ]
     },
     "execution_count": 13,
     "metadata": {},
     "output_type": "execute_result"
    },
    {
     "data": {
      "image/png": "[encoded data removed]",
      "text/plain": [
       "<Figure size 432x288 with 1 Axes>"
      ]
     },
     "metadata": {
      "needs_background": "light"
     },
     "output_type": "display_data"
    }
   ],
   "source": [
    "#plotting accidents by state\n",
    "\n",
    "cleaned_df['State'].value_counts().head(30).plot.bar()\n",
    "plt.xlabel('State',fontsize=10)\n",
    "plt.ylabel('Number of Accidents',fontsize=10)\n",
    "plt.title('Top 30 States with the Highest Number of Accidents',fontsize=10)"
   ]
  },
  {
   "cell_type": "code",
   "execution_count": 14,
   "id": "21ffa231",
   "metadata": {
    "executionInfo": {
     "elapsed": 24,
     "status": "aborted",
     "timestamp": 1638568401649,
     "user": {
      "displayName": "James Shafer",
      "photoUrl": "https://lh3.googleusercontent.com/a/default-user=s64",
      "userId": "12800533439839110413"
     },
     "user_tz": 300
    },
    "id": "748f0f6e"
   },
   "outputs": [
    {
     "data": {
      "text/plain": [
       "Text(0.5, 1.0, 'Top 25 Cities with the Highest Number of Accidents')"
      ]
     },
     "execution_count": 14,
     "metadata": {},
     "output_type": "execute_result"
    },
    {
     "data": {
      "image/png": "[encoded data removed]",
      "text/plain": [
       "<Figure size 432x288 with 1 Axes>"
      ]
     },
     "metadata": {
      "needs_background": "light"
     },
     "output_type": "display_data"
    }
   ],
   "source": [
    "#plotting by citites\n",
    "\n",
    "cleaned_df['City'].value_counts().head(25).plot.bar()\n",
    "plt.xlabel('City',fontsize=10)\n",
    "plt.ylabel('Number of Accidents',fontsize=10)\n",
    "plt.title('Top 25 Cities with the Highest Number of Accidents',fontsize=10)"
   ]
  },
  {
   "cell_type": "code",
   "execution_count": 15,
   "id": "24b3066f",
   "metadata": {
    "executionInfo": {
     "elapsed": 25,
     "status": "aborted",
     "timestamp": 1638568401650,
     "user": {
      "displayName": "James Shafer",
      "photoUrl": "https://lh3.googleusercontent.com/a/default-user=s64",
      "userId": "12800533439839110413"
     },
     "user_tz": 300
    },
    "id": "7b4d143a"
   },
   "outputs": [
    {
     "data": {
      "text/plain": [
       "Text(0.5, 1.0, 'Severity of Accidents in USA')"
      ]
     },
     "execution_count": 15,
     "metadata": {},
     "output_type": "execute_result"
    },
    {
     "data": {
      "image/png": "[encoded data removed]",
      "text/plain": [
       "<Figure size 432x288 with 1 Axes>"
      ]
     },
     "metadata": {
      "needs_background": "light"
     },
     "output_type": "display_data"
    }
   ],
   "source": [
    "#plotting accidents by severity\n",
    "\n",
    "cleaned_df['Severity'].value_counts().head(15).plot.bar()\n",
    "plt.xlabel('Severity',fontsize=10)\n",
    "plt.ylabel('Number of Accidents',fontsize=10)\n",
    "plt.title('Severity of Accidents in USA',fontsize=10)"
   ]
  },
  {
   "cell_type": "code",
   "execution_count": 17,
   "id": "d5cf752d",
   "metadata": {
    "executionInfo": {
     "elapsed": 25,
     "status": "aborted",
     "timestamp": 1638568401650,
     "user": {
      "displayName": "James Shafer",
      "photoUrl": "https://lh3.googleusercontent.com/a/default-user=s64",
      "userId": "12800533439839110413"
     },
     "user_tz": 300
    },
    "id": "99693230"
   },
   "outputs": [
    {
     "data": {
      "text/html": [
       "<div>\n",
       "<style scoped>\n",
       "    .dataframe tbody tr th:only-of-type {\n",
       "        vertical-align: middle;\n",
       "    }\n",
       "\n",
       "    .dataframe tbody tr th {\n",
       "        vertical-align: top;\n",
       "    }\n",
       "\n",
       "    .dataframe thead th {\n",
       "        text-align: right;\n",
       "    }\n",
       "</style>\n",
       "<table border=\"1\" class=\"dataframe\">\n",
       "  <thead>\n",
       "    <tr style=\"text-align: right;\">\n",
       "      <th></th>\n",
       "      <th>Temperature(F)</th>\n",
       "      <th>Visibility(mi)</th>\n",
       "      <th>Pressure(in)</th>\n",
       "      <th>Humidity(%)</th>\n",
       "      <th>Wind_Speed(mph)</th>\n",
       "      <th>Precipitation(in)</th>\n",
       "    </tr>\n",
       "    <tr>\n",
       "      <th>Severity</th>\n",
       "      <th></th>\n",
       "      <th></th>\n",
       "      <th></th>\n",
       "      <th></th>\n",
       "      <th></th>\n",
       "      <th></th>\n",
       "    </tr>\n",
       "  </thead>\n",
       "  <tbody>\n",
       "    <tr>\n",
       "      <th>1</th>\n",
       "      <td>70.637236</td>\n",
       "      <td>9.510757</td>\n",
       "      <td>29.066327</td>\n",
       "      <td>51.266092</td>\n",
       "      <td>8.352702</td>\n",
       "      <td>0.005414</td>\n",
       "    </tr>\n",
       "    <tr>\n",
       "      <th>2</th>\n",
       "      <td>58.011850</td>\n",
       "      <td>8.940664</td>\n",
       "      <td>29.395161</td>\n",
       "      <td>66.365307</td>\n",
       "      <td>6.973291</td>\n",
       "      <td>0.006846</td>\n",
       "    </tr>\n",
       "    <tr>\n",
       "      <th>3</th>\n",
       "      <td>62.818846</td>\n",
       "      <td>8.948384</td>\n",
       "      <td>29.093449</td>\n",
       "      <td>65.621855</td>\n",
       "      <td>8.940266</td>\n",
       "      <td>0.015873</td>\n",
       "    </tr>\n",
       "    <tr>\n",
       "      <th>4</th>\n",
       "      <td>58.647904</td>\n",
       "      <td>8.697900</td>\n",
       "      <td>29.292672</td>\n",
       "      <td>69.427138</td>\n",
       "      <td>7.802595</td>\n",
       "      <td>0.009749</td>\n",
       "    </tr>\n",
       "  </tbody>\n",
       "</table>\n",
       "</div>"
      ],
      "text/plain": [
       "          Temperature(F)  Visibility(mi)  Pressure(in)  Humidity(%)  \\\n",
       "Severity                                                              \n",
       "1              70.637236        9.510757     29.066327    51.266092   \n",
       "2              58.011850        8.940664     29.395161    66.365307   \n",
       "3              62.818846        8.948384     29.093449    65.621855   \n",
       "4              58.647904        8.697900     29.292672    69.427138   \n",
       "\n",
       "          Wind_Speed(mph)  Precipitation(in)  \n",
       "Severity                                      \n",
       "1                8.352702           0.005414  \n",
       "2                6.973291           0.006846  \n",
       "3                8.940266           0.015873  \n",
       "4                7.802595           0.009749  "
      ]
     },
     "execution_count": 17,
     "metadata": {},
     "output_type": "execute_result"
    }
   ],
   "source": [
    "#checking if there is a difference in our variables based on severity\n",
    "#we can see that more severe accidents generally have higher average precipitation\n",
    "\n",
    "cleaned_df.groupby('Severity').mean()"
   ]
  },
  {
   "cell_type": "code",
   "execution_count": 18,
   "id": "f4eb11cc",
   "metadata": {
    "executionInfo": {
     "elapsed": 27,
     "status": "aborted",
     "timestamp": 1638568401652,
     "user": {
      "displayName": "James Shafer",
      "photoUrl": "https://lh3.googleusercontent.com/a/default-user=s64",
      "userId": "12800533439839110413"
     },
     "user_tz": 300
    },
    "id": "0a17633f"
   },
   "outputs": [
    {
     "data": {
      "text/plain": [
       "Weather_Condition\n",
       "Freezing Rain / Windy           4.000000\n",
       "Light Blowing Snow              4.000000\n",
       "Patches of Fog / Windy          3.600000\n",
       "Smoke / Windy                   3.106383\n",
       "Light Snow Shower               3.000000\n",
       "                                  ...   \n",
       "Light Sleet / Windy             2.000000\n",
       "Snow and Sleet / Windy          2.000000\n",
       "Snow and Sleet                  2.000000\n",
       "Thunder / Wintry Mix / Windy    2.000000\n",
       "Thunder and Hail                1.000000\n",
       "Name: Severity, Length: 102, dtype: float64"
      ]
     },
     "execution_count": 18,
     "metadata": {},
     "output_type": "execute_result"
    }
   ],
   "source": [
    "#checking the most severe weather conditions\n",
    "#some of the \n",
    "\n",
    "cleaned_df.groupby('Weather_Condition').Severity.mean().sort_values(ascending=False)\n",
    "\n"
   ]
  },
  {
   "cell_type": "code",
   "execution_count": 19,
   "id": "ebdeb2f8",
   "metadata": {
    "executionInfo": {
     "elapsed": 27,
     "status": "aborted",
     "timestamp": 1638568401653,
     "user": {
      "displayName": "James Shafer",
      "photoUrl": "https://lh3.googleusercontent.com/a/default-user=s64",
      "userId": "12800533439839110413"
     },
     "user_tz": 300
    },
    "id": "e021439c"
   },
   "outputs": [
    {
     "data": {
      "text/plain": [
       "Text(0.5, 0, 'Severity')"
      ]
     },
     "execution_count": 19,
     "metadata": {},
     "output_type": "execute_result"
    },
    {
     "data": {
      "image/png": "[encoded data removed]",
      "text/plain": [
       "<Figure size 432x288 with 1 Axes>"
      ]
     },
     "metadata": {
      "needs_background": "light"
     },
     "output_type": "display_data"
    }
   ],
   "source": [
    "#making box plots with various variables\n",
    "\n",
    "sns.boxplot(x=\"Severity\", y=\"Temperature(F)\",data=cleaned_df)\n",
    "plt.ylabel('Temperature(F)')\n",
    "plt.xlabel('Severity')"
   ]
  },
  {
   "cell_type": "code",
   "execution_count": 20,
   "id": "c08a8509",
   "metadata": {},
   "outputs": [
    {
     "data": {
      "text/plain": [
       "Text(0.5, 0, 'Severity')"
      ]
     },
     "execution_count": 20,
     "metadata": {},
     "output_type": "execute_result"
    },
    {
     "data": {
      "image/png": "[encoded data removed]",
      "text/plain": [
       "<Figure size 432x288 with 1 Axes>"
      ]
     },
     "metadata": {
      "needs_background": "light"
     },
     "output_type": "display_data"
    }
   ],
   "source": [
    "sns.boxplot(x=\"Severity\", y=\"Visibility(mi)\",data=cleaned_df)\n",
    "plt.ylabel('Visibility(mi)')\n",
    "plt.xlabel('Severity')"
   ]
  },
  {
   "cell_type": "code",
   "execution_count": 20,
   "id": "622572a1",
   "metadata": {
    "executionInfo": {
     "elapsed": 28,
     "status": "aborted",
     "timestamp": 1638568401654,
     "user": {
      "displayName": "James Shafer",
      "photoUrl": "https://lh3.googleusercontent.com/a/default-user=s64",
      "userId": "12800533439839110413"
     },
     "user_tz": 300
    },
    "id": "7136e34b"
   },
   "outputs": [
    {
     "data": {
      "text/plain": [
       "Text(0.5, 0, 'Severity')"
      ]
     },
     "execution_count": 20,
     "metadata": {},
     "output_type": "execute_result"
    },
    {
     "data": {
      "image/png": "[encoded data removed]",
      "text/plain": [
       "<Figure size 432x288 with 1 Axes>"
      ]
     },
     "metadata": {
      "needs_background": "light"
     },
     "output_type": "display_data"
    }
   ],
   "source": [
    "sns.boxplot(x=\"Severity\", y=\"Humidity(%)\",data=cleaned_df)\n",
    "plt.ylabel('Humidity(%)')\n",
    "plt.xlabel('Severity')"
   ]
  },
  {
   "cell_type": "code",
   "execution_count": 21,
   "id": "7a3fec4d",
   "metadata": {
    "executionInfo": {
     "elapsed": 28,
     "status": "aborted",
     "timestamp": 1638568401654,
     "user": {
      "displayName": "James Shafer",
      "photoUrl": "https://lh3.googleusercontent.com/a/default-user=s64",
      "userId": "12800533439839110413"
     },
     "user_tz": 300
    },
    "id": "b29ebebe"
   },
   "outputs": [
    {
     "data": {
      "text/plain": [
       "Text(0.5, 0, 'Severity')"
      ]
     },
     "execution_count": 21,
     "metadata": {},
     "output_type": "execute_result"
    },
    {
     "data": {
      "image/png": "[encoded data removed]",
      "text/plain": [
       "<Figure size 432x288 with 1 Axes>"
      ]
     },
     "metadata": {
      "needs_background": "light"
     },
     "output_type": "display_data"
    }
   ],
   "source": [
    "sns.boxplot(x=\"Severity\", y=\"Wind_Speed(mph)\",data=cleaned_df)\n",
    "plt.ylabel('Wind_Speed(mph)')\n",
    "plt.xlabel('Severity')"
   ]
  },
  {
   "cell_type": "code",
   "execution_count": 22,
   "id": "7c78ab9e",
   "metadata": {
    "executionInfo": {
     "elapsed": 29,
     "status": "aborted",
     "timestamp": 1638568401655,
     "user": {
      "displayName": "James Shafer",
      "photoUrl": "https://lh3.googleusercontent.com/a/default-user=s64",
      "userId": "12800533439839110413"
     },
     "user_tz": 300
    },
    "id": "352c7c4e"
   },
   "outputs": [
    {
     "data": {
      "text/plain": [
       "Text(0.5, 0, 'Severity')"
      ]
     },
     "execution_count": 22,
     "metadata": {},
     "output_type": "execute_result"
    },
    {
     "data": {
      "image/png": "[encoded data removed]",
      "text/plain": [
       "<Figure size 432x288 with 1 Axes>"
      ]
     },
     "metadata": {
      "needs_background": "light"
     },
     "output_type": "display_data"
    }
   ],
   "source": [
    "sns.boxplot(x=\"Severity\", y=\"Pressure(in)\",data=cleaned_df)\n",
    "plt.ylabel('Pressure(in)')\n",
    "plt.xlabel('Severity')"
   ]
  },
  {
   "cell_type": "code",
   "execution_count": 22,
   "id": "ed4dfedb",
   "metadata": {},
   "outputs": [
    {
     "data": {
      "text/plain": [
       "Text(0.5, 0, 'Severity')"
      ]
     },
     "execution_count": 22,
     "metadata": {},
     "output_type": "execute_result"
    },
    {
     "data": {
      "image/png": "[encoded data removed]",
      "text/plain": [
       "<Figure size 432x288 with 1 Axes>"
      ]
     },
     "metadata": {
      "needs_background": "light"
     },
     "output_type": "display_data"
    }
   ],
   "source": [
    "sns.boxplot(x=\"Severity\", y=\"Precipitation(in)\",data=cleaned_df)\n",
    "plt.ylabel('Precipitation(in)')\n",
    "plt.xlabel('Severity')"
   ]
  },
  {
   "cell_type": "code",
   "execution_count": 23,
   "id": "527735e7",
   "metadata": {
    "executionInfo": {
     "elapsed": 29,
     "status": "aborted",
     "timestamp": 1638568401655,
     "user": {
      "displayName": "James Shafer",
      "photoUrl": "https://lh3.googleusercontent.com/a/default-user=s64",
      "userId": "12800533439839110413"
     },
     "user_tz": 300
    },
    "id": "voO6rfRiR8Dt"
   },
   "outputs": [
    {
     "data": {
      "text/html": [
       "<div>\n",
       "<style scoped>\n",
       "    .dataframe tbody tr th:only-of-type {\n",
       "        vertical-align: middle;\n",
       "    }\n",
       "\n",
       "    .dataframe tbody tr th {\n",
       "        vertical-align: top;\n",
       "    }\n",
       "\n",
       "    .dataframe thead th {\n",
       "        text-align: right;\n",
       "    }\n",
       "</style>\n",
       "<table border=\"1\" class=\"dataframe\">\n",
       "  <thead>\n",
       "    <tr style=\"text-align: right;\">\n",
       "      <th></th>\n",
       "      <th>Severity</th>\n",
       "      <th>Start_Time</th>\n",
       "      <th>State</th>\n",
       "      <th>City</th>\n",
       "      <th>Temperature</th>\n",
       "      <th>Visibility</th>\n",
       "      <th>Weather_Condition</th>\n",
       "      <th>Pressure</th>\n",
       "      <th>Humidity</th>\n",
       "      <th>Wind_Speed</th>\n",
       "      <th>Precipitation</th>\n",
       "      <th>Severity_Text</th>\n",
       "    </tr>\n",
       "  </thead>\n",
       "  <tbody>\n",
       "    <tr>\n",
       "      <th>0</th>\n",
       "      <td>3</td>\n",
       "      <td>2016-02-08 00:37:08</td>\n",
       "      <td>OH</td>\n",
       "      <td>Dublin</td>\n",
       "      <td>42.1</td>\n",
       "      <td>10.0</td>\n",
       "      <td>Light Rain</td>\n",
       "      <td>29.76</td>\n",
       "      <td>58.0</td>\n",
       "      <td>10.4</td>\n",
       "      <td>0.00</td>\n",
       "      <td>High Delay</td>\n",
       "    </tr>\n",
       "    <tr>\n",
       "      <th>5</th>\n",
       "      <td>3</td>\n",
       "      <td>2016-02-08 07:53:43</td>\n",
       "      <td>OH</td>\n",
       "      <td>Cincinnati</td>\n",
       "      <td>37.0</td>\n",
       "      <td>10.0</td>\n",
       "      <td>Light Rain</td>\n",
       "      <td>29.69</td>\n",
       "      <td>93.0</td>\n",
       "      <td>10.4</td>\n",
       "      <td>0.01</td>\n",
       "      <td>High Delay</td>\n",
       "    </tr>\n",
       "    <tr>\n",
       "      <th>9</th>\n",
       "      <td>2</td>\n",
       "      <td>2016-02-08 11:51:46</td>\n",
       "      <td>OH</td>\n",
       "      <td>Cleveland</td>\n",
       "      <td>33.1</td>\n",
       "      <td>0.5</td>\n",
       "      <td>Snow</td>\n",
       "      <td>29.63</td>\n",
       "      <td>92.0</td>\n",
       "      <td>3.5</td>\n",
       "      <td>0.08</td>\n",
       "      <td>Medium Delay</td>\n",
       "    </tr>\n",
       "    <tr>\n",
       "      <th>11</th>\n",
       "      <td>2</td>\n",
       "      <td>2016-02-08 15:16:43</td>\n",
       "      <td>OH</td>\n",
       "      <td>Westerville</td>\n",
       "      <td>32.0</td>\n",
       "      <td>0.5</td>\n",
       "      <td>Snow</td>\n",
       "      <td>29.59</td>\n",
       "      <td>100.0</td>\n",
       "      <td>3.5</td>\n",
       "      <td>0.05</td>\n",
       "      <td>Medium Delay</td>\n",
       "    </tr>\n",
       "    <tr>\n",
       "      <th>12</th>\n",
       "      <td>2</td>\n",
       "      <td>2016-02-08 15:43:50</td>\n",
       "      <td>OH</td>\n",
       "      <td>Cincinnati</td>\n",
       "      <td>33.8</td>\n",
       "      <td>3.0</td>\n",
       "      <td>Light Snow</td>\n",
       "      <td>29.66</td>\n",
       "      <td>100.0</td>\n",
       "      <td>4.6</td>\n",
       "      <td>0.03</td>\n",
       "      <td>Medium Delay</td>\n",
       "    </tr>\n",
       "  </tbody>\n",
       "</table>\n",
       "</div>"
      ],
      "text/plain": [
       "    Severity           Start_Time State         City  Temperature  Visibility  \\\n",
       "0          3  2016-02-08 00:37:08    OH       Dublin         42.1        10.0   \n",
       "5          3  2016-02-08 07:53:43    OH   Cincinnati         37.0        10.0   \n",
       "9          2  2016-02-08 11:51:46    OH    Cleveland         33.1         0.5   \n",
       "11         2  2016-02-08 15:16:43    OH  Westerville         32.0         0.5   \n",
       "12         2  2016-02-08 15:43:50    OH   Cincinnati         33.8         3.0   \n",
       "\n",
       "   Weather_Condition  Pressure  Humidity  Wind_Speed  Precipitation  \\\n",
       "0         Light Rain     29.76      58.0        10.4           0.00   \n",
       "5         Light Rain     29.69      93.0        10.4           0.01   \n",
       "9               Snow     29.63      92.0         3.5           0.08   \n",
       "11              Snow     29.59     100.0         3.5           0.05   \n",
       "12        Light Snow     29.66     100.0         4.6           0.03   \n",
       "\n",
       "   Severity_Text  \n",
       "0     High Delay  \n",
       "5     High Delay  \n",
       "9   Medium Delay  \n",
       "11  Medium Delay  \n",
       "12  Medium Delay  "
      ]
     },
     "execution_count": 23,
     "metadata": {},
     "output_type": "execute_result"
    }
   ],
   "source": [
    "#renaming columns to remove the parentheses, as they werent working for the regression\n",
    "\n",
    "cleaned_df = cleaned_df.rename(columns={\"Temperature(F)\": \"Temperature\", \"Visibility(mi)\": \"Visibility\", \n",
    "                                        \"Pressure(in)\" : \"Pressure\", \"Humidity(%)\" : \"Humidity\", \n",
    "                                        \"Wind_Speed(mph)\" : \"Wind_Speed\", \"Precipitation(in)\" : \"Precipitation\"})\n",
    "\n",
    "cleaned_df.head()"
   ]
  },
  {
   "cell_type": "code",
   "execution_count": 27,
   "id": "60ca589d",
   "metadata": {
    "scrolled": true
   },
   "outputs": [
    {
     "data": {
      "text/html": [
       "<div>\n",
       "<style scoped>\n",
       "    .dataframe tbody tr th:only-of-type {\n",
       "        vertical-align: middle;\n",
       "    }\n",
       "\n",
       "    .dataframe tbody tr th {\n",
       "        vertical-align: top;\n",
       "    }\n",
       "\n",
       "    .dataframe thead th {\n",
       "        text-align: right;\n",
       "    }\n",
       "</style>\n",
       "<table border=\"1\" class=\"dataframe\">\n",
       "  <thead>\n",
       "    <tr style=\"text-align: right;\">\n",
       "      <th></th>\n",
       "      <th>Severity</th>\n",
       "      <th>Temperature</th>\n",
       "      <th>Visibility</th>\n",
       "      <th>Pressure</th>\n",
       "      <th>Humidity</th>\n",
       "      <th>Wind_Speed</th>\n",
       "      <th>Precipitation</th>\n",
       "    </tr>\n",
       "  </thead>\n",
       "  <tbody>\n",
       "    <tr>\n",
       "      <th>Severity</th>\n",
       "      <td>1.000000</td>\n",
       "      <td>-0.000979</td>\n",
       "      <td>-0.026727</td>\n",
       "      <td>-0.031949</td>\n",
       "      <td>0.055842</td>\n",
       "      <td>0.055165</td>\n",
       "      <td>0.016918</td>\n",
       "    </tr>\n",
       "    <tr>\n",
       "      <th>Temperature</th>\n",
       "      <td>-0.000979</td>\n",
       "      <td>1.000000</td>\n",
       "      <td>0.224148</td>\n",
       "      <td>0.122691</td>\n",
       "      <td>-0.398403</td>\n",
       "      <td>0.092189</td>\n",
       "      <td>0.001187</td>\n",
       "    </tr>\n",
       "    <tr>\n",
       "      <th>Visibility</th>\n",
       "      <td>-0.026727</td>\n",
       "      <td>0.224148</td>\n",
       "      <td>1.000000</td>\n",
       "      <td>-0.042073</td>\n",
       "      <td>-0.376644</td>\n",
       "      <td>0.004158</td>\n",
       "      <td>-0.104870</td>\n",
       "    </tr>\n",
       "    <tr>\n",
       "      <th>Pressure</th>\n",
       "      <td>-0.031949</td>\n",
       "      <td>0.122691</td>\n",
       "      <td>-0.042073</td>\n",
       "      <td>1.000000</td>\n",
       "      <td>0.193515</td>\n",
       "      <td>-0.060210</td>\n",
       "      <td>0.017479</td>\n",
       "    </tr>\n",
       "    <tr>\n",
       "      <th>Humidity</th>\n",
       "      <td>0.055842</td>\n",
       "      <td>-0.398403</td>\n",
       "      <td>-0.376644</td>\n",
       "      <td>0.193515</td>\n",
       "      <td>1.000000</td>\n",
       "      <td>-0.145220</td>\n",
       "      <td>0.073880</td>\n",
       "    </tr>\n",
       "    <tr>\n",
       "      <th>Wind_Speed</th>\n",
       "      <td>0.055165</td>\n",
       "      <td>0.092189</td>\n",
       "      <td>0.004158</td>\n",
       "      <td>-0.060210</td>\n",
       "      <td>-0.145220</td>\n",
       "      <td>1.000000</td>\n",
       "      <td>0.030225</td>\n",
       "    </tr>\n",
       "    <tr>\n",
       "      <th>Precipitation</th>\n",
       "      <td>0.016918</td>\n",
       "      <td>0.001187</td>\n",
       "      <td>-0.104870</td>\n",
       "      <td>0.017479</td>\n",
       "      <td>0.073880</td>\n",
       "      <td>0.030225</td>\n",
       "      <td>1.000000</td>\n",
       "    </tr>\n",
       "  </tbody>\n",
       "</table>\n",
       "</div>"
      ],
      "text/plain": [
       "               Severity  Temperature  Visibility  Pressure  Humidity  \\\n",
       "Severity       1.000000    -0.000979   -0.026727 -0.031949  0.055842   \n",
       "Temperature   -0.000979     1.000000    0.224148  0.122691 -0.398403   \n",
       "Visibility    -0.026727     0.224148    1.000000 -0.042073 -0.376644   \n",
       "Pressure      -0.031949     0.122691   -0.042073  1.000000  0.193515   \n",
       "Humidity       0.055842    -0.398403   -0.376644  0.193515  1.000000   \n",
       "Wind_Speed     0.055165     0.092189    0.004158 -0.060210 -0.145220   \n",
       "Precipitation  0.016918     0.001187   -0.104870  0.017479  0.073880   \n",
       "\n",
       "               Wind_Speed  Precipitation  \n",
       "Severity         0.055165       0.016918  \n",
       "Temperature      0.092189       0.001187  \n",
       "Visibility       0.004158      -0.104870  \n",
       "Pressure        -0.060210       0.017479  \n",
       "Humidity        -0.145220       0.073880  \n",
       "Wind_Speed       1.000000       0.030225  \n",
       "Precipitation    0.030225       1.000000  "
      ]
     },
     "execution_count": 27,
     "metadata": {},
     "output_type": "execute_result"
    }
   ],
   "source": [
    "#creating correlation matrix\n",
    "\n",
    "corr = cleaned_df.corr()\n",
    "corr"
   ]
  },
  {
   "cell_type": "code",
   "execution_count": 26,
   "id": "38db8359",
   "metadata": {
    "executionInfo": {
     "elapsed": 30,
     "status": "aborted",
     "timestamp": 1638568401656,
     "user": {
      "displayName": "James Shafer",
      "photoUrl": "https://lh3.googleusercontent.com/a/default-user=s64",
      "userId": "12800533439839110413"
     },
     "user_tz": 300
    },
    "id": "aSY0aqogSC5R"
   },
   "outputs": [
    {
     "data": {
      "text/html": [
       "<table class=\"simpletable\">\n",
       "<caption>OLS Regression Results</caption>\n",
       "<tr>\n",
       "  <th>Dep. Variable:</th>        <td>Severity</td>     <th>  R-squared:         </th>  <td>   0.010</td>  \n",
       "</tr>\n",
       "<tr>\n",
       "  <th>Model:</th>                   <td>OLS</td>       <th>  Adj. R-squared:    </th>  <td>   0.010</td>  \n",
       "</tr>\n",
       "<tr>\n",
       "  <th>Method:</th>             <td>Least Squares</td>  <th>  F-statistic:       </th>  <td>   1640.</td>  \n",
       "</tr>\n",
       "<tr>\n",
       "  <th>Date:</th>             <td>Fri, 03 Dec 2021</td> <th>  Prob (F-statistic):</th>   <td>  0.00</td>   \n",
       "</tr>\n",
       "<tr>\n",
       "  <th>Time:</th>                 <td>16:55:15</td>     <th>  Log-Likelihood:    </th> <td>-7.6210e+05</td>\n",
       "</tr>\n",
       "<tr>\n",
       "  <th>No. Observations:</th>      <td>976566</td>      <th>  AIC:               </th>  <td>1.524e+06</td> \n",
       "</tr>\n",
       "<tr>\n",
       "  <th>Df Residuals:</th>          <td>976559</td>      <th>  BIC:               </th>  <td>1.524e+06</td> \n",
       "</tr>\n",
       "<tr>\n",
       "  <th>Df Model:</th>              <td>     6</td>      <th>                     </th>      <td> </td>     \n",
       "</tr>\n",
       "<tr>\n",
       "  <th>Covariance Type:</th>      <td>nonrobust</td>    <th>                     </th>      <td> </td>     \n",
       "</tr>\n",
       "</table>\n",
       "<table class=\"simpletable\">\n",
       "<tr>\n",
       "        <td></td>           <th>coef</th>     <th>std err</th>      <th>t</th>      <th>P>|t|</th>  <th>[0.025</th>    <th>0.975]</th>  \n",
       "</tr>\n",
       "<tr>\n",
       "  <th>Intercept</th>     <td>    2.6044</td> <td>    0.014</td> <td>  184.180</td> <td> 0.000</td> <td>    2.577</td> <td>    2.632</td>\n",
       "</tr>\n",
       "<tr>\n",
       "  <th>Temperature</th>   <td>    0.0010</td> <td>  3.4e-05</td> <td>   30.472</td> <td> 0.000</td> <td>    0.001</td> <td>    0.001</td>\n",
       "</tr>\n",
       "<tr>\n",
       "  <th>Visibility</th>    <td>   -0.0007</td> <td>    0.000</td> <td>   -3.107</td> <td> 0.002</td> <td>   -0.001</td> <td>   -0.000</td>\n",
       "</tr>\n",
       "<tr>\n",
       "  <th>Pressure</th>      <td>   -0.0232</td> <td>    0.000</td> <td>  -46.941</td> <td> 0.000</td> <td>   -0.024</td> <td>   -0.022</td>\n",
       "</tr>\n",
       "<tr>\n",
       "  <th>Humidity</th>      <td>    0.0020</td> <td> 2.75e-05</td> <td>   71.170</td> <td> 0.000</td> <td>    0.002</td> <td>    0.002</td>\n",
       "</tr>\n",
       "<tr>\n",
       "  <th>Wind_Speed</th>    <td>    0.0058</td> <td> 9.72e-05</td> <td>   59.947</td> <td> 0.000</td> <td>    0.006</td> <td>    0.006</td>\n",
       "</tr>\n",
       "<tr>\n",
       "  <th>Precipitation</th> <td>    0.0486</td> <td>    0.005</td> <td>    9.041</td> <td> 0.000</td> <td>    0.038</td> <td>    0.059</td>\n",
       "</tr>\n",
       "</table>\n",
       "<table class=\"simpletable\">\n",
       "<tr>\n",
       "  <th>Omnibus:</th>       <td>424371.737</td> <th>  Durbin-Watson:     </th>  <td>   1.314</td>  \n",
       "</tr>\n",
       "<tr>\n",
       "  <th>Prob(Omnibus):</th>   <td> 0.000</td>   <th>  Jarque-Bera (JB):  </th> <td>1975140.475</td>\n",
       "</tr>\n",
       "<tr>\n",
       "  <th>Skew:</th>            <td> 2.134</td>   <th>  Prob(JB):          </th>  <td>    0.00</td>  \n",
       "</tr>\n",
       "<tr>\n",
       "  <th>Kurtosis:</th>        <td> 8.507</td>   <th>  Cond. No.          </th>  <td>2.52e+03</td>  \n",
       "</tr>\n",
       "</table><br/><br/>Warnings:<br/>[1] Standard Errors assume that the covariance matrix of the errors is correctly specified.<br/>[2] The condition number is large, 2.52e+03. This might indicate that there are<br/>strong multicollinearity or other numerical problems."
      ],
      "text/plain": [
       "<class 'statsmodels.iolib.summary.Summary'>\n",
       "\"\"\"\n",
       "                            OLS Regression Results                            \n",
       "==============================================================================\n",
       "Dep. Variable:               Severity   R-squared:                       0.010\n",
       "Model:                            OLS   Adj. R-squared:                  0.010\n",
       "Method:                 Least Squares   F-statistic:                     1640.\n",
       "Date:                Fri, 03 Dec 2021   Prob (F-statistic):               0.00\n",
       "Time:                        16:55:15   Log-Likelihood:            -7.6210e+05\n",
       "No. Observations:              976566   AIC:                         1.524e+06\n",
       "Df Residuals:                  976559   BIC:                         1.524e+06\n",
       "Df Model:                           6                                         \n",
       "Covariance Type:            nonrobust                                         \n",
       "=================================================================================\n",
       "                    coef    std err          t      P>|t|      [0.025      0.975]\n",
       "---------------------------------------------------------------------------------\n",
       "Intercept         2.6044      0.014    184.180      0.000       2.577       2.632\n",
       "Temperature       0.0010    3.4e-05     30.472      0.000       0.001       0.001\n",
       "Visibility       -0.0007      0.000     -3.107      0.002      -0.001      -0.000\n",
       "Pressure         -0.0232      0.000    -46.941      0.000      -0.024      -0.022\n",
       "Humidity          0.0020   2.75e-05     71.170      0.000       0.002       0.002\n",
       "Wind_Speed        0.0058   9.72e-05     59.947      0.000       0.006       0.006\n",
       "Precipitation     0.0486      0.005      9.041      0.000       0.038       0.059\n",
       "==============================================================================\n",
       "Omnibus:                   424371.737   Durbin-Watson:                   1.314\n",
       "Prob(Omnibus):                  0.000   Jarque-Bera (JB):          1975140.475\n",
       "Skew:                           2.134   Prob(JB):                         0.00\n",
       "Kurtosis:                       8.507   Cond. No.                     2.52e+03\n",
       "==============================================================================\n",
       "\n",
       "Warnings:\n",
       "[1] Standard Errors assume that the covariance matrix of the errors is correctly specified.\n",
       "[2] The condition number is large, 2.52e+03. This might indicate that there are\n",
       "strong multicollinearity or other numerical problems.\n",
       "\"\"\""
      ]
     },
     "execution_count": 26,
     "metadata": {},
     "output_type": "execute_result"
    }
   ],
   "source": [
    "#creating linear regression\n",
    "\n",
    "result = sm.ols(formula=\"Severity ~ Temperature + Visibility + Pressure + Humidity + Wind_Speed + Precipitation\", data=cleaned_df).fit()\n",
    "result.summary()"
   ]
  },
  {
   "cell_type": "code",
   "execution_count": null,
   "id": "e0523e95",
   "metadata": {},
   "outputs": [],
   "source": []
  }
 ],
 "metadata": {
  "colab": {
   "name": "Phase3-James with BoxPlots.ipynb",
   "provenance": []
  },
  "kernelspec": {
   "display_name": "Python 3",
   "language": "python",
   "name": "python3"
  },
  "language_info": {
   "codemirror_mode": {
    "name": "ipython",
    "version": 3
   },
   "file_extension": ".py",
   "mimetype": "text/x-python",
   "name": "python",
   "nbconvert_exporter": "python",
   "pygments_lexer": "ipython3",
   "version": "3.8.8"
  }
 },
 "nbformat": 4,
 "nbformat_minor": 5
}
